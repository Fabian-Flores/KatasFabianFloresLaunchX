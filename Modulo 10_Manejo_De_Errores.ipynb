{
 "cells": [
  {
   "cell_type": "code",
   "execution_count": 1,
   "metadata": {},
   "outputs": [
    {
     "ename": "FileNotFoundError",
     "evalue": "[Errno 2] No such file or directory: '/path/to/mars.jpg'",
     "output_type": "error",
     "traceback": [
      "\u001b[1;31m---------------------------------------------------------------------------\u001b[0m",
      "\u001b[1;31mFileNotFoundError\u001b[0m                         Traceback (most recent call last)",
      "\u001b[1;32mc:\\Users\\fabia\\Documents\\Cursos\\LaunchX\\Kata 10\\Modulo 10_Manejo_De_Errores.ipynb Cell 1'\u001b[0m in \u001b[0;36m<module>\u001b[1;34m\u001b[0m\n\u001b[0;32m      <a href='vscode-notebook-cell:/c%3A/Users/fabia/Documents/Cursos/LaunchX/Kata%2010/Modulo%2010_Manejo_De_Errores.ipynb#ch0000007?line=1'>2</a>\u001b[0m     \u001b[39mopen\u001b[39m(\u001b[39m\"\u001b[39m\u001b[39m/path/to/mars.jpg\u001b[39m\u001b[39m\"\u001b[39m)\n\u001b[0;32m      <a href='vscode-notebook-cell:/c%3A/Users/fabia/Documents/Cursos/LaunchX/Kata%2010/Modulo%2010_Manejo_De_Errores.ipynb#ch0000007?line=3'>4</a>\u001b[0m \u001b[39mif\u001b[39;00m \u001b[39m__name__\u001b[39m\u001b[39m==\u001b[39m \u001b[39m'\u001b[39m\u001b[39m__main__\u001b[39m\u001b[39m'\u001b[39m:\n\u001b[1;32m----> <a href='vscode-notebook-cell:/c%3A/Users/fabia/Documents/Cursos/LaunchX/Kata%2010/Modulo%2010_Manejo_De_Errores.ipynb#ch0000007?line=4'>5</a>\u001b[0m     main()\n",
      "\u001b[1;32mc:\\Users\\fabia\\Documents\\Cursos\\LaunchX\\Kata 10\\Modulo 10_Manejo_De_Errores.ipynb Cell 1'\u001b[0m in \u001b[0;36mmain\u001b[1;34m()\u001b[0m\n\u001b[0;32m      <a href='vscode-notebook-cell:/c%3A/Users/fabia/Documents/Cursos/LaunchX/Kata%2010/Modulo%2010_Manejo_De_Errores.ipynb#ch0000007?line=0'>1</a>\u001b[0m \u001b[39mdef\u001b[39;00m \u001b[39mmain\u001b[39m():\n\u001b[1;32m----> <a href='vscode-notebook-cell:/c%3A/Users/fabia/Documents/Cursos/LaunchX/Kata%2010/Modulo%2010_Manejo_De_Errores.ipynb#ch0000007?line=1'>2</a>\u001b[0m     \u001b[39mopen\u001b[39;49m(\u001b[39m\"\u001b[39;49m\u001b[39m/path/to/mars.jpg\u001b[39;49m\u001b[39m\"\u001b[39;49m)\n",
      "\u001b[1;31mFileNotFoundError\u001b[0m: [Errno 2] No such file or directory: '/path/to/mars.jpg'"
     ]
    }
   ],
   "source": [
    "def main():\n",
    "    open(\"/path/to/mars.jpg\")\n",
    "\n",
    "if __name__== '__main__':\n",
    "    main()\n"
   ]
  },
  {
   "cell_type": "code",
   "execution_count": 3,
   "metadata": {},
   "outputs": [
    {
     "name": "stdout",
     "output_type": "stream",
     "text": [
      "Could not open Config.txt\n"
     ]
    }
   ],
   "source": [
    "try:\n",
    "    open('Config.txt')\n",
    "except FileNotFoundError:\n",
    "    print (\"Could not open Config.txt\")"
   ]
  },
  {
   "cell_type": "code",
   "execution_count": 2,
   "metadata": {},
   "outputs": [
    {
     "name": "stdout",
     "output_type": "stream",
     "text": [
      "got a problem trying to read the file: [Errno 2] No such file or directory: 'mars.jpg'\n"
     ]
    }
   ],
   "source": [
    "try: \n",
    "    open(\"mars.jpg\")\n",
    "except FileNotFoundError as err:\n",
    "    print(\"got a problem trying to read the file:\", err)"
   ]
  },
  {
   "cell_type": "code",
   "execution_count": 3,
   "metadata": {},
   "outputs": [
    {
     "name": "stdout",
     "output_type": "stream",
     "text": [
      "Found config.txt but couldn't read it\n"
     ]
    }
   ],
   "source": [
    "try:\n",
    "    open(\"config.txt\")\n",
    "except OSError as err:\n",
    "    if err.errno == 2:\n",
    "        print(\"Couldn't find the confing.txt file\")\n",
    "    elif err.errno ==13:\n",
    "         print (\"Found config.txt but couldn't read it\")\n",
    "         "
   ]
  },
  {
   "cell_type": "markdown",
   "metadata": {},
   "source": [
    "# Generación de excepciones"
   ]
  },
  {
   "cell_type": "code",
   "execution_count": 5,
   "metadata": {},
   "outputs": [
    {
     "data": {
      "text/plain": [
       "'El total de agua disponible después de 2 días es: -10 litros'"
      ]
     },
     "execution_count": 5,
     "metadata": {},
     "output_type": "execute_result"
    }
   ],
   "source": [
    "def aguaSuministro (astronauta, agua, dia):\n",
    "    usoDiario = astronauta * 11\n",
    "    totalUso = usoDiario * dia\n",
    "    totalAgua = agua - totalUso\n",
    "\n",
    "    return f\"El total de agua disponible después de {dia} días es: {totalAgua} litros\"\n",
    "\n",
    "aguaSuministro (5,100,2\n",
    ")"
   ]
  },
  {
   "cell_type": "code",
   "execution_count": 14,
   "metadata": {},
   "outputs": [
    {
     "ename": "NameError",
     "evalue": "name 'alert_navigation_system' is not defined",
     "output_type": "error",
     "traceback": [
      "\u001b[1;31m---------------------------------------------------------------------------\u001b[0m",
      "\u001b[1;31mRuntimeError\u001b[0m                              Traceback (most recent call last)",
      "\u001b[1;32mc:\\Users\\fabia\\Documents\\Cursos\\LaunchX\\Kata 10\\Ejercicio 10.ipynb Cell 6'\u001b[0m in \u001b[0;36m<module>\u001b[1;34m\u001b[0m\n\u001b[0;32m     <a href='vscode-notebook-cell:/c%3A/Users/fabia/Documents/Cursos/LaunchX/Kata%2010/Ejercicio%2010.ipynb#ch0000008?line=10'>11</a>\u001b[0m \u001b[39mtry\u001b[39;00m: \n\u001b[1;32m---> <a href='vscode-notebook-cell:/c%3A/Users/fabia/Documents/Cursos/LaunchX/Kata%2010/Ejercicio%2010.ipynb#ch0000008?line=11'>12</a>\u001b[0m     \u001b[39mprint\u001b[39m(aguaSuministro (\u001b[39m5\u001b[39;49m,\u001b[39m100\u001b[39;49m,\u001b[39m2\u001b[39;49m))\n\u001b[0;32m     <a href='vscode-notebook-cell:/c%3A/Users/fabia/Documents/Cursos/LaunchX/Kata%2010/Ejercicio%2010.ipynb#ch0000008?line=12'>13</a>\u001b[0m \u001b[39mexcept\u001b[39;00m \u001b[39mRuntimeError\u001b[39;00m \u001b[39mas\u001b[39;00m err:\n",
      "\u001b[1;32mc:\\Users\\fabia\\Documents\\Cursos\\LaunchX\\Kata 10\\Ejercicio 10.ipynb Cell 6'\u001b[0m in \u001b[0;36maguaSuministro\u001b[1;34m(astronauta, agua, dia)\u001b[0m\n\u001b[0;32m      <a href='vscode-notebook-cell:/c%3A/Users/fabia/Documents/Cursos/LaunchX/Kata%2010/Ejercicio%2010.ipynb#ch0000008?line=5'>6</a>\u001b[0m \u001b[39mif\u001b[39;00m totalAgua \u001b[39m<\u001b[39m \u001b[39m0\u001b[39m:\n\u001b[1;32m----> <a href='vscode-notebook-cell:/c%3A/Users/fabia/Documents/Cursos/LaunchX/Kata%2010/Ejercicio%2010.ipynb#ch0000008?line=6'>7</a>\u001b[0m     \u001b[39mraise\u001b[39;00m \u001b[39mRuntimeError\u001b[39;00m(\u001b[39mf\u001b[39m\u001b[39m\"\u001b[39m\u001b[39mNo hay suficiente agua para los \u001b[39m\u001b[39m{\u001b[39;00mastronauta\u001b[39m}\u001b[39;00m\u001b[39m astronautas después de \u001b[39m\u001b[39m{\u001b[39;00mdia\u001b[39m}\u001b[39;00m\u001b[39m días\u001b[39m\u001b[39m\"\u001b[39m)\n\u001b[0;32m      <a href='vscode-notebook-cell:/c%3A/Users/fabia/Documents/Cursos/LaunchX/Kata%2010/Ejercicio%2010.ipynb#ch0000008?line=8'>9</a>\u001b[0m \u001b[39mreturn\u001b[39;00m \u001b[39mf\u001b[39m\u001b[39m\"\u001b[39m\u001b[39mEl total de agua disponible después de \u001b[39m\u001b[39m{\u001b[39;00mdia\u001b[39m}\u001b[39;00m\u001b[39m días es: \u001b[39m\u001b[39m{\u001b[39;00mtotalAgua\u001b[39m}\u001b[39;00m\u001b[39m litros\u001b[39m\u001b[39m\"\u001b[39m\n",
      "\u001b[1;31mRuntimeError\u001b[0m: No hay suficiente agua para los 5 astronautas después de 2 días",
      "\nDuring handling of the above exception, another exception occurred:\n",
      "\u001b[1;31mNameError\u001b[0m                                 Traceback (most recent call last)",
      "\u001b[1;32mc:\\Users\\fabia\\Documents\\Cursos\\LaunchX\\Kata 10\\Ejercicio 10.ipynb Cell 6'\u001b[0m in \u001b[0;36m<module>\u001b[1;34m\u001b[0m\n\u001b[0;32m     <a href='vscode-notebook-cell:/c%3A/Users/fabia/Documents/Cursos/LaunchX/Kata%2010/Ejercicio%2010.ipynb#ch0000008?line=11'>12</a>\u001b[0m     \u001b[39mprint\u001b[39m(aguaSuministro (\u001b[39m5\u001b[39m,\u001b[39m100\u001b[39m,\u001b[39m2\u001b[39m))\n\u001b[0;32m     <a href='vscode-notebook-cell:/c%3A/Users/fabia/Documents/Cursos/LaunchX/Kata%2010/Ejercicio%2010.ipynb#ch0000008?line=12'>13</a>\u001b[0m \u001b[39mexcept\u001b[39;00m \u001b[39mRuntimeError\u001b[39;00m \u001b[39mas\u001b[39;00m err:\n\u001b[1;32m---> <a href='vscode-notebook-cell:/c%3A/Users/fabia/Documents/Cursos/LaunchX/Kata%2010/Ejercicio%2010.ipynb#ch0000008?line=13'>14</a>\u001b[0m     alert_navigation_system(err)\n",
      "\u001b[1;31mNameError\u001b[0m: name 'alert_navigation_system' is not defined"
     ]
    }
   ],
   "source": [
    "def aguaSuministro (astronauta, agua, dia):\n",
    "    usoDiario = astronauta * 11\n",
    "    totalUso = usoDiario * dia\n",
    "    totalAgua = agua - totalUso\n",
    "\n",
    "    if totalAgua < 0:\n",
    "        raise RuntimeError(f\"No hay suficiente agua para los {astronauta} astronautas después de {dia} días\")\n",
    "\n",
    "    return f\"El total de agua disponible después de {dia} días es: {totalAgua} litros\"\n",
    "\n",
    "try: \n",
    "    print(aguaSuministro (5,100,2))\n",
    "except RuntimeError as err:\n",
    "    alert_navigation_system(err)"
   ]
  },
  {
   "cell_type": "code",
   "execution_count": 23,
   "metadata": {},
   "outputs": [
    {
     "name": "stdout",
     "output_type": "stream",
     "text": [
      "El total de agua disponible después de 2 días es: 90 litros\n"
     ]
    }
   ],
   "source": [
    "def aguaSuministro (astronauta, agua, dia):\n",
    "    for error in [astronauta,agua,dia]:\n",
    "        try:\n",
    "            # IF el argumento es in Int, la siguiente operación de ejecutará\n",
    "            error /10\n",
    "        except TypeError:\n",
    "            # TypeError se genara si no es del tipo correcto\n",
    "            #Genera una excepción similar but con un mejor mensaje de error\n",
    "            raise TypeError(f\"Todos los argumentos deben ser de tipo Numerico, error en el parametro: '{error}'\") \n",
    "\n",
    "    usoDiario = astronauta * 11\n",
    "    totalUso = usoDiario * dia\n",
    "    totalAgua = agua - totalUso\n",
    "\n",
    "    if totalAgua < 0:\n",
    "        raise RuntimeError(f\"No hay suficiente agua para los {astronauta} astronautas después de {dia} días\")\n",
    "\n",
    "    return f\"El total de agua disponible después de {dia} días es: {totalAgua} litros\"\n",
    "\n",
    "try: \n",
    "    print(aguaSuministro (5,200,2))\n",
    "except RuntimeError as err:\n",
    "    alert_navigation_system(err)"
   ]
  }
 ],
 "metadata": {
  "interpreter": {
   "hash": "f8fcbf85dd45e12290eec3b85dbe17d48e13c4e303156a7239b18cbe3c425310"
  },
  "kernelspec": {
   "display_name": "Python 3.9.7 64-bit",
   "language": "python",
   "name": "python3"
  },
  "language_info": {
   "codemirror_mode": {
    "name": "ipython",
    "version": 3
   },
   "file_extension": ".py",
   "mimetype": "text/x-python",
   "name": "python",
   "nbconvert_exporter": "python",
   "pygments_lexer": "ipython3",
   "version": "3.9.7"
  },
  "orig_nbformat": 4
 },
 "nbformat": 4,
 "nbformat_minor": 2
}
